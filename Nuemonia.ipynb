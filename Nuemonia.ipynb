{
  "nbformat": 4,
  "nbformat_minor": 0,
  "metadata": {
    "accelerator": "GPU",
    "colab": {
      "name": "Nuemonia",
      "provenance": [],
      "collapsed_sections": []
    },
    "kernelspec": {
      "display_name": "Python 3",
      "name": "python3"
    }
  },
  "cells": [
    {
      "cell_type": "code",
      "metadata": {
        "id": "ymWyJfO7UoNB",
        "colab": {
          "base_uri": "https://localhost:8080/"
        },
        "outputId": "28eb25ab-2f7f-4e8a-8448-5d9612abffcc"
      },
      "source": [
        "import matplotlib.pyplot as plt\n",
        "import seaborn as sns\n",
        "import keras\n",
        "from keras.models import Sequential\n",
        "from keras.layers import Dense, Conv2D , MaxPool2D , Flatten , Dropout , BatchNormalization\n",
        "from keras.preprocessing.image import ImageDataGenerator\n",
        "from sklearn.model_selection import train_test_split\n",
        "from sklearn.metrics import classification_report,confusion_matrix\n",
        "from sklearn.externals import joblib \n",
        "from keras.callbacks import ReduceLROnPlateau\n",
        "import cv2\n",
        "import os\n",
        "import numpy as np\n",
        "import pandas as pd \n",
        "import time"
      ],
      "execution_count": null,
      "outputs": [
        {
          "output_type": "stream",
          "text": [
            "/usr/local/lib/python3.7/dist-packages/sklearn/externals/joblib/__init__.py:15: FutureWarning: sklearn.externals.joblib is deprecated in 0.21 and will be removed in 0.23. Please import this functionality directly from joblib, which can be installed with: pip install joblib. If this warning is raised when loading pickled models, you may need to re-serialize those models with scikit-learn 0.21+.\n",
            "  warnings.warn(msg, category=FutureWarning)\n"
          ],
          "name": "stderr"
        }
      ]
    },
    {
      "cell_type": "code",
      "metadata": {
        "id": "vhR4fSFhUx_p"
      },
      "source": [
        "#get the info\n",
        "labels = ['PNEUMONIA', 'NORMAL']\n",
        "img_size = 150\n",
        "def get_training_data(data_dir):\n",
        "    data = [] \n",
        "    for label in labels: \n",
        "        path = os.path.join(data_dir, label)\n",
        "        class_num = labels.index(label)\n",
        "        for img in os.listdir(path):\n",
        "            try:\n",
        "                img_arr = cv2.imread(os.path.join(path, img), cv2.IMREAD_GRAYSCALE)\n",
        "                resized_arr = cv2.resize(img_arr, (img_size, img_size)) # Reshaping images to preferred size\n",
        "                data.append([resized_arr, class_num])\n",
        "            except Exception as e:\n",
        "                print(e)\n",
        "    return np.array(data)"
      ],
      "execution_count": null,
      "outputs": []
    },
    {
      "cell_type": "code",
      "metadata": {
        "id": "oImOSZv_-PMz",
        "colab": {
          "base_uri": "https://localhost:8080/"
        },
        "outputId": "f08a1450-fdd5-47db-af67-45f10cbb2906"
      },
      "source": [
        "#Path\n",
        "train = get_training_data(\"/content/drive/My Drive/Dataset/Entrenamiento\")\n",
        "test = get_training_data(\"/content/drive/My Drive/Dataset/Examen\")"
      ],
      "execution_count": null,
      "outputs": [
        {
          "output_type": "stream",
          "text": [
            "/usr/local/lib/python3.7/dist-packages/ipykernel_launcher.py:16: VisibleDeprecationWarning: Creating an ndarray from ragged nested sequences (which is a list-or-tuple of lists-or-tuples-or ndarrays with different lengths or shapes) is deprecated. If you meant to do this, you must specify 'dtype=object' when creating the ndarray\n",
            "  app.launch_new_instance()\n"
          ],
          "name": "stderr"
        }
      ]
    },
    {
      "cell_type": "code",
      "metadata": {
        "id": "fBu9y4NvDser",
        "colab": {
          "base_uri": "https://localhost:8080/",
          "height": 337
        },
        "outputId": "9cbcf714-4a27-4661-f029-6fe58aa42453"
      },
      "source": [
        "#Diference \n",
        "l = []\n",
        "for i in train:\n",
        "    if(i[1] == 0):\n",
        "        l.append(\"Pneumonia\")\n",
        "    else:\n",
        "        l.append(\"Normal\")\n",
        "sns.set_style('darkgrid')\n",
        "sns.countplot(l)   "
      ],
      "execution_count": null,
      "outputs": [
        {
          "output_type": "stream",
          "text": [
            "/usr/local/lib/python3.7/dist-packages/seaborn/_decorators.py:43: FutureWarning: Pass the following variable as a keyword arg: x. From version 0.12, the only valid positional argument will be `data`, and passing other arguments without an explicit keyword will result in an error or misinterpretation.\n",
            "  FutureWarning\n"
          ],
          "name": "stderr"
        },
        {
          "output_type": "execute_result",
          "data": {
            "text/plain": [
              "<matplotlib.axes._subplots.AxesSubplot at 0x7f05ca25d650>"
            ]
          },
          "metadata": {
            "tags": []
          },
          "execution_count": 5
        },
        {
          "output_type": "display_data",
          "data": {
            "image/png": "[encoded data removed]",
            "text/plain": [
              "<Figure size 432x288 with 1 Axes>"
            ]
          },
          "metadata": {
            "tags": []
          }
        }
      ]
    },
    {
      "cell_type": "code",
      "metadata": {
        "id": "lTITrLFaVjCr"
      },
      "source": [
        "x_train = []\n",
        "y_train = []\n",
        "\n",
        "\n",
        "x_test = []\n",
        "y_test = []\n",
        "\n",
        "#Split \n",
        "for feature, label in train:\n",
        "    x_train.append(feature)\n",
        "    y_train.append(label)\n",
        "\n",
        "for feature, label in test:\n",
        "    x_test.append(feature)\n",
        "    y_test.append(label)\n"
      ],
      "execution_count": null,
      "outputs": []
    },
    {
      "cell_type": "code",
      "metadata": {
        "id": "taxUW_6e-XvE",
        "colab": {
          "base_uri": "https://localhost:8080/"
        },
        "outputId": "9d9885d5-aeac-4520-81e4-afa884a25fa8"
      },
      "source": [
        "#Normalize the data\n",
        "x_train = np.array(x_train) / 255\n",
        "x_test = np.array(x_test) / 255\n",
        "#Resize data for deep learning \n",
        "x_train = x_train.reshape(-1, img_size, img_size, 1)\n",
        "y_train = np.array(y_train)\n",
        "\n",
        "x_test = x_test.reshape(-1, img_size, img_size, 1)\n",
        "y_test = np.array(y_test)\n",
        "print(x_train) "
      ],
      "execution_count": null,
      "outputs": [
        {
          "output_type": "stream",
          "text": [
            "[[[[0.0627451 ]\n",
            "   [0.0627451 ]\n",
            "   [0.0627451 ]\n",
            "   ...\n",
            "   [0.56470588]\n",
            "   [0.55686275]\n",
            "   [0.50588235]]\n",
            "\n",
            "  [[0.05098039]\n",
            "   [0.05098039]\n",
            "   [0.05098039]\n",
            "   ...\n",
            "   [0.62352941]\n",
            "   [0.55294118]\n",
            "   [0.49411765]]\n",
            "\n",
            "  [[0.04313725]\n",
            "   [0.04313725]\n",
            "   [0.04313725]\n",
            "   ...\n",
            "   [0.61568627]\n",
            "   [0.54117647]\n",
            "   [0.50980392]]\n",
            "\n",
            "  ...\n",
            "\n",
            "  [[0.38039216]\n",
            "   [0.49411765]\n",
            "   [0.54901961]\n",
            "   ...\n",
            "   [0.07843137]\n",
            "   [0.07843137]\n",
            "   [0.09019608]]\n",
            "\n",
            "  [[0.00784314]\n",
            "   [0.48235294]\n",
            "   [0.55686275]\n",
            "   ...\n",
            "   [0.07843137]\n",
            "   [0.07843137]\n",
            "   [0.00392157]]\n",
            "\n",
            "  [[0.41176471]\n",
            "   [0.50196078]\n",
            "   [0.55686275]\n",
            "   ...\n",
            "   [0.07843137]\n",
            "   [0.07843137]\n",
            "   [0.08235294]]]\n",
            "\n",
            "\n",
            " [[[0.01176471]\n",
            "   [0.01176471]\n",
            "   [0.00784314]\n",
            "   ...\n",
            "   [0.64705882]\n",
            "   [0.67058824]\n",
            "   [0.63921569]]\n",
            "\n",
            "  [[0.00392157]\n",
            "   [0.00392157]\n",
            "   [0.        ]\n",
            "   ...\n",
            "   [0.6745098 ]\n",
            "   [0.67843137]\n",
            "   [0.65882353]]\n",
            "\n",
            "  [[0.00392157]\n",
            "   [0.00784314]\n",
            "   [0.05882353]\n",
            "   ...\n",
            "   [0.6745098 ]\n",
            "   [0.6745098 ]\n",
            "   [0.68627451]]\n",
            "\n",
            "  ...\n",
            "\n",
            "  [[0.07843137]\n",
            "   [0.07843137]\n",
            "   [0.0745098 ]\n",
            "   ...\n",
            "   [0.04313725]\n",
            "   [0.04313725]\n",
            "   [0.04313725]]\n",
            "\n",
            "  [[0.07843137]\n",
            "   [0.07843137]\n",
            "   [0.07843137]\n",
            "   ...\n",
            "   [0.04313725]\n",
            "   [0.04313725]\n",
            "   [0.04313725]]\n",
            "\n",
            "  [[0.07843137]\n",
            "   [0.07843137]\n",
            "   [0.07843137]\n",
            "   ...\n",
            "   [0.04313725]\n",
            "   [0.04313725]\n",
            "   [0.04313725]]]\n",
            "\n",
            "\n",
            " [[[0.22745098]\n",
            "   [0.23137255]\n",
            "   [0.23137255]\n",
            "   ...\n",
            "   [0.0745098 ]\n",
            "   [0.0745098 ]\n",
            "   [0.08627451]]\n",
            "\n",
            "  [[0.23137255]\n",
            "   [0.22352941]\n",
            "   [0.23137255]\n",
            "   ...\n",
            "   [0.05882353]\n",
            "   [0.0627451 ]\n",
            "   [0.0745098 ]]\n",
            "\n",
            "  [[0.21960784]\n",
            "   [0.21568627]\n",
            "   [0.22352941]\n",
            "   ...\n",
            "   [0.10196078]\n",
            "   [0.0745098 ]\n",
            "   [0.05098039]]\n",
            "\n",
            "  ...\n",
            "\n",
            "  [[0.10980392]\n",
            "   [0.10980392]\n",
            "   [0.11764706]\n",
            "   ...\n",
            "   [0.10980392]\n",
            "   [0.10196078]\n",
            "   [0.10196078]]\n",
            "\n",
            "  [[0.10588235]\n",
            "   [0.10980392]\n",
            "   [0.10980392]\n",
            "   ...\n",
            "   [0.10196078]\n",
            "   [0.10196078]\n",
            "   [0.10588235]]\n",
            "\n",
            "  [[0.10588235]\n",
            "   [0.10980392]\n",
            "   [0.10588235]\n",
            "   ...\n",
            "   [0.10196078]\n",
            "   [0.10196078]\n",
            "   [0.10196078]]]\n",
            "\n",
            "\n",
            " ...\n",
            "\n",
            "\n",
            " [[[0.        ]\n",
            "   [0.        ]\n",
            "   [0.        ]\n",
            "   ...\n",
            "   [0.05098039]\n",
            "   [0.03529412]\n",
            "   [0.01960784]]\n",
            "\n",
            "  [[0.        ]\n",
            "   [0.        ]\n",
            "   [0.        ]\n",
            "   ...\n",
            "   [0.05490196]\n",
            "   [0.06666667]\n",
            "   [0.04705882]]\n",
            "\n",
            "  [[0.        ]\n",
            "   [0.        ]\n",
            "   [0.        ]\n",
            "   ...\n",
            "   [0.05490196]\n",
            "   [0.06666667]\n",
            "   [0.06666667]]\n",
            "\n",
            "  ...\n",
            "\n",
            "  [[0.        ]\n",
            "   [0.        ]\n",
            "   [0.        ]\n",
            "   ...\n",
            "   [0.        ]\n",
            "   [0.        ]\n",
            "   [0.        ]]\n",
            "\n",
            "  [[0.        ]\n",
            "   [0.        ]\n",
            "   [0.        ]\n",
            "   ...\n",
            "   [0.        ]\n",
            "   [0.        ]\n",
            "   [0.        ]]\n",
            "\n",
            "  [[0.        ]\n",
            "   [0.        ]\n",
            "   [0.        ]\n",
            "   ...\n",
            "   [0.        ]\n",
            "   [0.        ]\n",
            "   [0.        ]]]\n",
            "\n",
            "\n",
            " [[[0.49411765]\n",
            "   [0.46666667]\n",
            "   [0.49019608]\n",
            "   ...\n",
            "   [0.2745098 ]\n",
            "   [0.65490196]\n",
            "   [0.76470588]]\n",
            "\n",
            "  [[0.5254902 ]\n",
            "   [0.49803922]\n",
            "   [0.46666667]\n",
            "   ...\n",
            "   [0.49411765]\n",
            "   [0.76078431]\n",
            "   [0.49411765]]\n",
            "\n",
            "  [[0.68235294]\n",
            "   [0.50980392]\n",
            "   [0.49411765]\n",
            "   ...\n",
            "   [0.76862745]\n",
            "   [0.56862745]\n",
            "   [0.43921569]]\n",
            "\n",
            "  ...\n",
            "\n",
            "  [[0.        ]\n",
            "   [0.        ]\n",
            "   [0.        ]\n",
            "   ...\n",
            "   [0.        ]\n",
            "   [0.        ]\n",
            "   [0.        ]]\n",
            "\n",
            "  [[0.        ]\n",
            "   [0.        ]\n",
            "   [0.        ]\n",
            "   ...\n",
            "   [0.        ]\n",
            "   [0.        ]\n",
            "   [0.        ]]\n",
            "\n",
            "  [[0.        ]\n",
            "   [0.        ]\n",
            "   [0.        ]\n",
            "   ...\n",
            "   [0.        ]\n",
            "   [0.        ]\n",
            "   [0.        ]]]\n",
            "\n",
            "\n",
            " [[[0.26666667]\n",
            "   [0.21960784]\n",
            "   [0.19215686]\n",
            "   ...\n",
            "   [0.23529412]\n",
            "   [0.23137255]\n",
            "   [0.34901961]]\n",
            "\n",
            "  [[0.43921569]\n",
            "   [0.38039216]\n",
            "   [0.30980392]\n",
            "   ...\n",
            "   [0.36470588]\n",
            "   [0.48627451]\n",
            "   [0.50980392]]\n",
            "\n",
            "  [[0.47058824]\n",
            "   [0.4745098 ]\n",
            "   [0.44705882]\n",
            "   ...\n",
            "   [0.54117647]\n",
            "   [0.56862745]\n",
            "   [0.55294118]]\n",
            "\n",
            "  ...\n",
            "\n",
            "  [[0.        ]\n",
            "   [0.        ]\n",
            "   [0.        ]\n",
            "   ...\n",
            "   [0.        ]\n",
            "   [0.        ]\n",
            "   [0.        ]]\n",
            "\n",
            "  [[0.        ]\n",
            "   [0.        ]\n",
            "   [0.        ]\n",
            "   ...\n",
            "   [0.        ]\n",
            "   [0.        ]\n",
            "   [0.        ]]\n",
            "\n",
            "  [[0.        ]\n",
            "   [0.        ]\n",
            "   [0.        ]\n",
            "   ...\n",
            "   [0.        ]\n",
            "   [0.        ]\n",
            "   [0.        ]]]]\n"
          ],
          "name": "stdout"
        }
      ]
    },
    {
      "cell_type": "code",
      "metadata": {
        "id": "sKsFngw--jKg",
        "colab": {
          "base_uri": "https://localhost:8080/"
        },
        "outputId": "18013c46-7fe7-4cc3-c7c6-12ac6c41b01b"
      },
      "source": [
        "#Make a model\n",
        "model = Sequential()\n",
        "#Padding is a weight\n",
        "model.add(Conv2D(32 , (3,3) , strides = 1 , padding = 'same' , activation = 'relu' , input_shape = (150,150,1)))\n",
        "#Rescaling of image for most speed \n",
        "model.add(BatchNormalization())\n",
        "#Strides is a compression of maxpooling  \n",
        "model.add(MaxPool2D((2,2) , strides = 2 , padding = 'same'))\n",
        "model.add(Conv2D(64 , (3,3) , strides = 1 , padding = 'same' , activation = 'relu'))\n",
        "model.add(Dropout(0.1))\n",
        "model.add(BatchNormalization())\n",
        "model.add(MaxPool2D((2,2) , strides = 2 , padding = 'same'))\n",
        "model.add(Conv2D(64 , (3,3) , strides = 1 , padding = 'same' , activation = 'relu'))\n",
        "model.add(BatchNormalization())\n",
        "model.add(MaxPool2D((2,2) , strides = 2 , padding = 'same'))\n",
        "model.add(Conv2D(128 , (3,3) , strides = 1 , padding = 'same' , activation = 'relu'))\n",
        "model.add(Dropout(0.2))\n",
        "model.add(BatchNormalization())\n",
        "model.add(MaxPool2D((2,2) , strides = 2 , padding = 'same'))\n",
        "model.add(Conv2D(256 , (3,3) , strides = 1 , padding = 'same' , activation = 'relu'))\n",
        "model.add(Dropout(0.2))\n",
        "model.add(BatchNormalization())\n",
        "model.add(MaxPool2D((2,2) , strides = 2 , padding = 'same'))\n",
        "model.add(Flatten())\n",
        "model.add(Dense(units = 128 , activation = 'relu'))\n",
        "model.add(Dropout(0.2))\n",
        "model.add(Dense(units = 1 , activation = 'sigmoid'))\n",
        "model.compile(optimizer = \"adam\" , loss = 'binary_crossentropy' , metrics = ['accuracy'])\n",
        "model.summary()"
      ],
      "execution_count": null,
      "outputs": [
        {
          "output_type": "stream",
          "text": [
            "Model: \"sequential_1\"\n",
            "_________________________________________________________________\n",
            "Layer (type)                 Output Shape              Param #   \n",
            "=================================================================\n",
            "conv2d_5 (Conv2D)            (None, 150, 150, 32)      320       \n",
            "_________________________________________________________________\n",
            "batch_normalization_5 (Batch (None, 150, 150, 32)      128       \n",
            "_________________________________________________________________\n",
            "max_pooling2d_5 (MaxPooling2 (None, 75, 75, 32)        0         \n",
            "_________________________________________________________________\n",
            "conv2d_6 (Conv2D)            (None, 75, 75, 64)        18496     \n",
            "_________________________________________________________________\n",
            "dropout_4 (Dropout)          (None, 75, 75, 64)        0         \n",
            "_________________________________________________________________\n",
            "batch_normalization_6 (Batch (None, 75, 75, 64)        256       \n",
            "_________________________________________________________________\n",
            "max_pooling2d_6 (MaxPooling2 (None, 38, 38, 64)        0         \n",
            "_________________________________________________________________\n",
            "conv2d_7 (Conv2D)            (None, 38, 38, 64)        36928     \n",
            "_________________________________________________________________\n",
            "batch_normalization_7 (Batch (None, 38, 38, 64)        256       \n",
            "_________________________________________________________________\n",
            "max_pooling2d_7 (MaxPooling2 (None, 19, 19, 64)        0         \n",
            "_________________________________________________________________\n",
            "conv2d_8 (Conv2D)            (None, 19, 19, 128)       73856     \n",
            "_________________________________________________________________\n",
            "dropout_5 (Dropout)          (None, 19, 19, 128)       0         \n",
            "_________________________________________________________________\n",
            "batch_normalization_8 (Batch (None, 19, 19, 128)       512       \n",
            "_________________________________________________________________\n",
            "max_pooling2d_8 (MaxPooling2 (None, 10, 10, 128)       0         \n",
            "_________________________________________________________________\n",
            "conv2d_9 (Conv2D)            (None, 10, 10, 256)       295168    \n",
            "_________________________________________________________________\n",
            "dropout_6 (Dropout)          (None, 10, 10, 256)       0         \n",
            "_________________________________________________________________\n",
            "batch_normalization_9 (Batch (None, 10, 10, 256)       1024      \n",
            "_________________________________________________________________\n",
            "max_pooling2d_9 (MaxPooling2 (None, 5, 5, 256)         0         \n",
            "_________________________________________________________________\n",
            "flatten_1 (Flatten)          (None, 6400)              0         \n",
            "_________________________________________________________________\n",
            "dense_2 (Dense)              (None, 128)               819328    \n",
            "_________________________________________________________________\n",
            "dropout_7 (Dropout)          (None, 128)               0         \n",
            "_________________________________________________________________\n",
            "dense_3 (Dense)              (None, 1)                 129       \n",
            "=================================================================\n",
            "Total params: 1,246,401\n",
            "Trainable params: 1,245,313\n",
            "Non-trainable params: 1,088\n",
            "_________________________________________________________________\n"
          ],
          "name": "stdout"
        }
      ]
    },
    {
      "cell_type": "code",
      "metadata": {
        "id": "tvraSrl2B1aH",
        "colab": {
          "base_uri": "https://localhost:8080/"
        },
        "outputId": "cc6aef63-de3a-46c8-dfa2-c4954e241a17"
      },
      "source": [
        "#Patience is a Early stopping \n",
        "#Verbose is how i want see the train \n",
        "\n",
        "learning_rate_reduction = ReduceLROnPlateau(monitor='val_accuracy', patience = 2, verbose=1,factor=0.3, min_lr=0.000001)\n",
        "model.fit(x_train,y_train, batch_size = 32 ,epochs = 12,callbacks = [learning_rate_reduction])"
      ],
      "execution_count": null,
      "outputs": [
        {
          "output_type": "stream",
          "text": [
            "Epoch 1/12\n",
            "163/163 [==============================] - 6s 34ms/step - loss: 0.0178 - accuracy: 0.9946\n",
            "WARNING:tensorflow:Learning rate reduction is conditioned on metric `val_accuracy` which is not available. Available metrics are: loss,accuracy,lr\n",
            "Epoch 2/12\n",
            "163/163 [==============================] - 6s 34ms/step - loss: 0.0203 - accuracy: 0.9921\n",
            "WARNING:tensorflow:Learning rate reduction is conditioned on metric `val_accuracy` which is not available. Available metrics are: loss,accuracy,lr\n",
            "Epoch 3/12\n",
            "163/163 [==============================] - 6s 34ms/step - loss: 0.0213 - accuracy: 0.9916\n",
            "WARNING:tensorflow:Learning rate reduction is conditioned on metric `val_accuracy` which is not available. Available metrics are: loss,accuracy,lr\n",
            "Epoch 4/12\n",
            "163/163 [==============================] - 6s 34ms/step - loss: 0.0135 - accuracy: 0.9960\n",
            "WARNING:tensorflow:Learning rate reduction is conditioned on metric `val_accuracy` which is not available. Available metrics are: loss,accuracy,lr\n",
            "Epoch 5/12\n",
            "163/163 [==============================] - 6s 34ms/step - loss: 0.0220 - accuracy: 0.9941\n",
            "WARNING:tensorflow:Learning rate reduction is conditioned on metric `val_accuracy` which is not available. Available metrics are: loss,accuracy,lr\n",
            "Epoch 6/12\n",
            "163/163 [==============================] - 6s 34ms/step - loss: 0.0100 - accuracy: 0.9967\n",
            "WARNING:tensorflow:Learning rate reduction is conditioned on metric `val_accuracy` which is not available. Available metrics are: loss,accuracy,lr\n",
            "Epoch 7/12\n",
            "163/163 [==============================] - 6s 34ms/step - loss: 0.0112 - accuracy: 0.9971\n",
            "WARNING:tensorflow:Learning rate reduction is conditioned on metric `val_accuracy` which is not available. Available metrics are: loss,accuracy,lr\n",
            "Epoch 8/12\n",
            "163/163 [==============================] - 6s 34ms/step - loss: 0.0162 - accuracy: 0.9958\n",
            "WARNING:tensorflow:Learning rate reduction is conditioned on metric `val_accuracy` which is not available. Available metrics are: loss,accuracy,lr\n",
            "Epoch 9/12\n",
            "163/163 [==============================] - 6s 34ms/step - loss: 0.0137 - accuracy: 0.9952\n",
            "WARNING:tensorflow:Learning rate reduction is conditioned on metric `val_accuracy` which is not available. Available metrics are: loss,accuracy,lr\n",
            "Epoch 10/12\n",
            "163/163 [==============================] - 6s 34ms/step - loss: 0.0186 - accuracy: 0.9939\n",
            "WARNING:tensorflow:Learning rate reduction is conditioned on metric `val_accuracy` which is not available. Available metrics are: loss,accuracy,lr\n",
            "Epoch 11/12\n",
            "163/163 [==============================] - 6s 34ms/step - loss: 0.0060 - accuracy: 0.9983\n",
            "WARNING:tensorflow:Learning rate reduction is conditioned on metric `val_accuracy` which is not available. Available metrics are: loss,accuracy,lr\n",
            "Epoch 12/12\n",
            "163/163 [==============================] - 6s 34ms/step - loss: 0.0168 - accuracy: 0.9950\n",
            "WARNING:tensorflow:Learning rate reduction is conditioned on metric `val_accuracy` which is not available. Available metrics are: loss,accuracy,lr\n"
          ],
          "name": "stdout"
        }
      ]
    },
    {
      "cell_type": "code",
      "metadata": {
        "id": "v8GimVHwL9gz",
        "colab": {
          "base_uri": "https://localhost:8080/"
        },
        "outputId": "d949b634-e9cb-408b-fefe-1aac9c822235"
      },
      "source": [
        "Neumo= model.evaluate(x_test,y_test)[1]*100\n",
        "print(\"Loss of the model is - \" , model.evaluate(x_test,y_test)[0])\n",
        "print(\"Accuracy of the model is - \" , model.evaluate(x_test,y_test)[1]*100 , \"%\")"
      ],
      "execution_count": null,
      "outputs": [
        {
          "output_type": "stream",
          "text": [
            "1/1 [==============================] - 0s 19ms/step - loss: 0.1242 - accuracy: 0.9375\n",
            "1/1 [==============================] - 0s 20ms/step - loss: 0.1242 - accuracy: 0.9375\n",
            "Loss of the model is -  0.1241588220000267\n",
            "1/1 [==============================] - 0s 18ms/step - loss: 0.1242 - accuracy: 0.9375\n",
            "Accuracy of the model is -  93.75 %\n"
          ],
          "name": "stdout"
        }
      ]
    },
    {
      "cell_type": "code",
      "metadata": {
        "id": "GUNazmcFMdUC",
        "colab": {
          "base_uri": "https://localhost:8080/"
        },
        "outputId": "eb0ee2ba-26f5-487e-bd0c-05066b1fe59d"
      },
      "source": [
        "predictions = model.predict_classes(x_test)\n",
        "predictions = predictions.reshape(1,-1)[0]\n",
        "predictions[:15]"
      ],
      "execution_count": null,
      "outputs": [
        {
          "output_type": "stream",
          "text": [
            "/usr/local/lib/python3.7/dist-packages/tensorflow/python/keras/engine/sequential.py:450: UserWarning: `model.predict_classes()` is deprecated and will be removed after 2021-01-01. Please use instead:* `np.argmax(model.predict(x), axis=-1)`,   if your model does multi-class classification   (e.g. if it uses a `softmax` last-layer activation).* `(model.predict(x) > 0.5).astype(\"int32\")`,   if your model does binary classification   (e.g. if it uses a `sigmoid` last-layer activation).\n",
            "  warnings.warn('`model.predict_classes()` is deprecated and '\n"
          ],
          "name": "stderr"
        },
        {
          "output_type": "execute_result",
          "data": {
            "text/plain": [
              "array([0, 0, 0, 0, 0, 0, 0, 1, 1, 1, 1, 1, 1, 1, 1], dtype=int32)"
            ]
          },
          "metadata": {
            "tags": []
          },
          "execution_count": 21
        }
      ]
    },
    {
      "cell_type": "code",
      "metadata": {
        "id": "-IA4bRcfMLWy",
        "colab": {
          "base_uri": "https://localhost:8080/",
          "height": 613
        },
        "outputId": "9f070964-7f73-4589-8f7a-d648cef8a2ca"
      },
      "source": [
        "cm = confusion_matrix(y_test,predictions)\n",
        "cm = pd.DataFrame(cm , index = ['0','1'] , columns = ['0','1'])\n",
        "plt.figure(figsize = (10,10))\n",
        "sns.heatmap(cm,cmap= \"Blues\", linecolor = 'black' , linewidth = 1 , annot = True, fmt='',xticklabels = labels,yticklabels = labels)"
      ],
      "execution_count": null,
      "outputs": [
        {
          "output_type": "execute_result",
          "data": {
            "text/plain": [
              "<matplotlib.axes._subplots.AxesSubplot at 0x7f056a42d690>"
            ]
          },
          "metadata": {
            "tags": []
          },
          "execution_count": 18
        },
        {
          "output_type": "display_data",
          "data": {
            "image/png": "[encoded data removed]",
            "text/plain": [
              "<Figure size 720x720 with 2 Axes>"
            ]
          },
          "metadata": {
            "tags": []
          }
        }
      ]
    },
    {
      "cell_type": "code",
      "metadata": {
        "id": "QVUDtjIHMZMp"
      },
      "source": [
        "#save the model\r\n",
        "model.save('Neumonia.h5')"
      ],
      "execution_count": null,
      "outputs": []
    },
    {
      "cell_type": "code",
      "metadata": {
        "colab": {
          "base_uri": "https://localhost:8080/"
        },
        "id": "bpGIU12xZO6f",
        "outputId": "fcb35698-fcc9-42e7-d23f-21b720af3707"
      },
      "source": [
        "#recreate the struture of model\r\n",
        "Modelagain = keras.models.load_model('Neumonia.h5')\r\n",
        "Modelagain.summary()"
      ],
      "execution_count": null,
      "outputs": [
        {
          "output_type": "stream",
          "text": [
            "Model: \"sequential_1\"\n",
            "_________________________________________________________________\n",
            "Layer (type)                 Output Shape              Param #   \n",
            "=================================================================\n",
            "conv2d_5 (Conv2D)            (None, 150, 150, 32)      320       \n",
            "_________________________________________________________________\n",
            "batch_normalization_5 (Batch (None, 150, 150, 32)      128       \n",
            "_________________________________________________________________\n",
            "max_pooling2d_5 (MaxPooling2 (None, 75, 75, 32)        0         \n",
            "_________________________________________________________________\n",
            "conv2d_6 (Conv2D)            (None, 75, 75, 64)        18496     \n",
            "_________________________________________________________________\n",
            "dropout_4 (Dropout)          (None, 75, 75, 64)        0         \n",
            "_________________________________________________________________\n",
            "batch_normalization_6 (Batch (None, 75, 75, 64)        256       \n",
            "_________________________________________________________________\n",
            "max_pooling2d_6 (MaxPooling2 (None, 38, 38, 64)        0         \n",
            "_________________________________________________________________\n",
            "conv2d_7 (Conv2D)            (None, 38, 38, 64)        36928     \n",
            "_________________________________________________________________\n",
            "batch_normalization_7 (Batch (None, 38, 38, 64)        256       \n",
            "_________________________________________________________________\n",
            "max_pooling2d_7 (MaxPooling2 (None, 19, 19, 64)        0         \n",
            "_________________________________________________________________\n",
            "conv2d_8 (Conv2D)            (None, 19, 19, 128)       73856     \n",
            "_________________________________________________________________\n",
            "dropout_5 (Dropout)          (None, 19, 19, 128)       0         \n",
            "_________________________________________________________________\n",
            "batch_normalization_8 (Batch (None, 19, 19, 128)       512       \n",
            "_________________________________________________________________\n",
            "max_pooling2d_8 (MaxPooling2 (None, 10, 10, 128)       0         \n",
            "_________________________________________________________________\n",
            "conv2d_9 (Conv2D)            (None, 10, 10, 256)       295168    \n",
            "_________________________________________________________________\n",
            "dropout_6 (Dropout)          (None, 10, 10, 256)       0         \n",
            "_________________________________________________________________\n",
            "batch_normalization_9 (Batch (None, 10, 10, 256)       1024      \n",
            "_________________________________________________________________\n",
            "max_pooling2d_9 (MaxPooling2 (None, 5, 5, 256)         0         \n",
            "_________________________________________________________________\n",
            "flatten_1 (Flatten)          (None, 6400)              0         \n",
            "_________________________________________________________________\n",
            "dense_2 (Dense)              (None, 128)               819328    \n",
            "_________________________________________________________________\n",
            "dropout_7 (Dropout)          (None, 128)               0         \n",
            "_________________________________________________________________\n",
            "dense_3 (Dense)              (None, 1)                 129       \n",
            "=================================================================\n",
            "Total params: 1,246,401\n",
            "Trainable params: 1,245,313\n",
            "Non-trainable params: 1,088\n",
            "_________________________________________________________________\n"
          ],
          "name": "stdout"
        }
      ]
    },
    {
      "cell_type": "code",
      "metadata": {
        "id": "sxs9_rcTdhCB"
      },
      "source": [
        ""
      ],
      "execution_count": null,
      "outputs": []
    }
  ]
}